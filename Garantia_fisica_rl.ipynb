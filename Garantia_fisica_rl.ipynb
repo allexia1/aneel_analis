{
  "nbformat": 4,
  "nbformat_minor": 0,
  "metadata": {
    "colab": {
      "name": "Untitled11.ipynb",
      "provenance": [],
      "collapsed_sections": [],
      "authorship_tag": "ABX9TyOa7Kco37OpojhZSpctcY6l",
      "include_colab_link": true
    },
    "kernelspec": {
      "name": "python3",
      "display_name": "Python 3"
    }
  },
  "cells": [
    {
      "cell_type": "markdown",
      "metadata": {
        "id": "view-in-github",
        "colab_type": "text"
      },
      "source": [
        "<a href=\"https://colab.research.google.com/github/allexia1/aneel_analis/blob/main/Garantia_fisica_rl.ipynb\" target=\"_parent\"><img src=\"https://colab.research.google.com/assets/colab-badge.svg\" alt=\"Open In Colab\"/></a>"
      ]
    },
    {
      "cell_type": "code",
      "metadata": {
        "id": "m-iN6XfUXK4O"
      },
      "source": [
        "import pandas as pd\n",
        "import seaborn as sns\n",
        "import matplotlib.pyplot as plt\n",
        "import numpy as np\n",
        "%matplotlib inline\n"
      ],
      "execution_count": 102,
      "outputs": []
    },
    {
      "cell_type": "code",
      "metadata": {
        "id": "ElqFOOD-XhjN"
      },
      "source": [
        "URI_TREINO = \"https://raw.githubusercontent.com/allexia1/predicarnotas/master/Pasta1.csv\"\n",
        "URI_TESTE = \"https://raw.githubusercontent.com/allexia1/aneel_analis/main/hidr.csv\"\n",
        "Y = pd.read_csv(URI_TREINO)\n",
        "W = pd.read_csv(URI_TESTE)\n"
      ],
      "execution_count": 250,
      "outputs": []
    },
    {
      "cell_type": "code",
      "metadata": {
        "id": "vCGd4rJoX_Qc",
        "outputId": "928d5487-0dbc-4455-8e0c-8f149a41a96f",
        "colab": {
          "base_uri": "https://localhost:8080/",
          "height": 419
        }
      },
      "source": [
        "#dados_treino.head()\n",
        "Y\n",
        "\n"
      ],
      "execution_count": 218,
      "outputs": [
        {
          "output_type": "execute_result",
          "data": {
            "text/html": [
              "<div>\n",
              "<style scoped>\n",
              "    .dataframe tbody tr th:only-of-type {\n",
              "        vertical-align: middle;\n",
              "    }\n",
              "\n",
              "    .dataframe tbody tr th {\n",
              "        vertical-align: top;\n",
              "    }\n",
              "\n",
              "    .dataframe thead th {\n",
              "        text-align: right;\n",
              "    }\n",
              "</style>\n",
              "<table border=\"1\" class=\"dataframe\">\n",
              "  <thead>\n",
              "    <tr style=\"text-align: right;\">\n",
              "      <th></th>\n",
              "      <th>Potência Outorgada (kW)</th>\n",
              "      <th>Potência Fiscalizada (kW)</th>\n",
              "      <th>Garantia Fisica (kW)</th>\n",
              "    </tr>\n",
              "  </thead>\n",
              "  <tbody>\n",
              "    <tr>\n",
              "      <th>0</th>\n",
              "      <td>1,300.50</td>\n",
              "      <td>1300.5</td>\n",
              "      <td>0</td>\n",
              "    </tr>\n",
              "    <tr>\n",
              "      <th>1</th>\n",
              "      <td>1,600.00</td>\n",
              "      <td>0.0</td>\n",
              "      <td>1060</td>\n",
              "    </tr>\n",
              "    <tr>\n",
              "      <th>2</th>\n",
              "      <td>165.60</td>\n",
              "      <td>165.6</td>\n",
              "      <td>0</td>\n",
              "    </tr>\n",
              "    <tr>\n",
              "      <th>3</th>\n",
              "      <td>2,056.00</td>\n",
              "      <td>2056.0</td>\n",
              "      <td>1100</td>\n",
              "    </tr>\n",
              "    <tr>\n",
              "      <th>4</th>\n",
              "      <td>831.00</td>\n",
              "      <td>831.0</td>\n",
              "      <td>360</td>\n",
              "    </tr>\n",
              "    <tr>\n",
              "      <th>...</th>\n",
              "      <td>...</td>\n",
              "      <td>...</td>\n",
              "      <td>...</td>\n",
              "    </tr>\n",
              "    <tr>\n",
              "      <th>162</th>\n",
              "      <td>100.00</td>\n",
              "      <td>100.0</td>\n",
              "      <td>0</td>\n",
              "    </tr>\n",
              "    <tr>\n",
              "      <th>163</th>\n",
              "      <td>990.00</td>\n",
              "      <td>990.0</td>\n",
              "      <td>0</td>\n",
              "    </tr>\n",
              "    <tr>\n",
              "      <th>164</th>\n",
              "      <td>2,500.00</td>\n",
              "      <td>2500.0</td>\n",
              "      <td>0</td>\n",
              "    </tr>\n",
              "    <tr>\n",
              "      <th>165</th>\n",
              "      <td>990.00</td>\n",
              "      <td>990.0</td>\n",
              "      <td>0</td>\n",
              "    </tr>\n",
              "    <tr>\n",
              "      <th>166</th>\n",
              "      <td>20.00</td>\n",
              "      <td>20.0</td>\n",
              "      <td>0</td>\n",
              "    </tr>\n",
              "  </tbody>\n",
              "</table>\n",
              "<p>167 rows × 3 columns</p>\n",
              "</div>"
            ],
            "text/plain": [
              "    Potência Outorgada (kW)  Potência Fiscalizada (kW)  Garantia Fisica (kW)\n",
              "0                  1,300.50                     1300.5                     0\n",
              "1                  1,600.00                        0.0                  1060\n",
              "2                    165.60                      165.6                     0\n",
              "3                  2,056.00                     2056.0                  1100\n",
              "4                    831.00                      831.0                   360\n",
              "..                      ...                        ...                   ...\n",
              "162                  100.00                      100.0                     0\n",
              "163                  990.00                      990.0                     0\n",
              "164                2,500.00                     2500.0                     0\n",
              "165                  990.00                      990.0                     0\n",
              "166                   20.00                       20.0                     0\n",
              "\n",
              "[167 rows x 3 columns]"
            ]
          },
          "metadata": {
            "tags": []
          },
          "execution_count": 218
        }
      ]
    },
    {
      "cell_type": "code",
      "metadata": {
        "id": "RHlOHwLnd5CD",
        "outputId": "dcfa74ff-f4dc-4eea-e263-7a501b1b4d66",
        "colab": {
          "base_uri": "https://localhost:8080/",
          "height": 391
        }
      },
      "source": [
        "\n",
        "sns.pairplot(Y)\n",
        "\n"
      ],
      "execution_count": 219,
      "outputs": [
        {
          "output_type": "execute_result",
          "data": {
            "text/plain": [
              "<seaborn.axisgrid.PairGrid at 0x7f94023ff1d0>"
            ]
          },
          "metadata": {
            "tags": []
          },
          "execution_count": 219
        },
        {
          "output_type": "display_data",
          "data": {
            "image/png": "[encoded data removed]",
            "text/plain": [
              "<Figure size 360x360 with 6 Axes>"
            ]
          },
          "metadata": {
            "tags": [],
            "needs_background": "light"
          }
        }
      ]
    },
    {
      "cell_type": "code",
      "metadata": {
        "id": "dAu8hWUxgu92"
      },
      "source": [
        "URI_TREINO1 = \"https://raw.githubusercontent.com/allexia1/aneel_analis/main/Pasta1%20(1).csv\"\n",
        "X = pd.read_csv(URI_TREINO1)\n"
      ],
      "execution_count": 220,
      "outputs": []
    },
    {
      "cell_type": "code",
      "metadata": {
        "id": "RhlVu91y_c4R",
        "outputId": "7c1d3c33-38ef-4764-a71c-83d83de96e47",
        "colab": {
          "base_uri": "https://localhost:8080/",
          "height": 391
        }
      },
      "source": [
        "sns.pairplot(X)"
      ],
      "execution_count": 200,
      "outputs": [
        {
          "output_type": "execute_result",
          "data": {
            "text/plain": [
              "<seaborn.axisgrid.PairGrid at 0x7f9402152eb8>"
            ]
          },
          "metadata": {
            "tags": []
          },
          "execution_count": 200
        },
        {
          "output_type": "display_data",
          "data": {
            "image/png": "[encoded data removed]",
            "text/plain": [
              "<Figure size 360x360 with 6 Axes>"
            ]
          },
          "metadata": {
            "tags": [],
            "needs_background": "light"
          }
        }
      ]
    },
    {
      "cell_type": "code",
      "metadata": {
        "id": "V2o_Y7JmqBj0",
        "outputId": "6c4316fe-5ea7-41c9-d2fa-8257b1cdccf3",
        "colab": {
          "base_uri": "https://localhost:8080/",
          "height": 419
        }
      },
      "source": [
        "W"
      ],
      "execution_count": 251,
      "outputs": [
        {
          "output_type": "execute_result",
          "data": {
            "text/html": [
              "<div>\n",
              "<style scoped>\n",
              "    .dataframe tbody tr th:only-of-type {\n",
              "        vertical-align: middle;\n",
              "    }\n",
              "\n",
              "    .dataframe tbody tr th {\n",
              "        vertical-align: top;\n",
              "    }\n",
              "\n",
              "    .dataframe thead th {\n",
              "        text-align: right;\n",
              "    }\n",
              "</style>\n",
              "<table border=\"1\" class=\"dataframe\">\n",
              "  <thead>\n",
              "    <tr style=\"text-align: right;\">\n",
              "      <th></th>\n",
              "      <th>Potência Outorgada (kW)</th>\n",
              "      <th>Potência Fiscalizada (kW)</th>\n",
              "      <th>Garantia Fisica (kW)</th>\n",
              "    </tr>\n",
              "  </thead>\n",
              "  <tbody>\n",
              "    <tr>\n",
              "      <th>0</th>\n",
              "      <td>1396200.0</td>\n",
              "      <td>1396200.0</td>\n",
              "      <td>731000</td>\n",
              "    </tr>\n",
              "    <tr>\n",
              "      <th>1</th>\n",
              "      <td>330000.0</td>\n",
              "      <td>330000.0</td>\n",
              "      <td>181900</td>\n",
              "    </tr>\n",
              "    <tr>\n",
              "      <th>2</th>\n",
              "      <td>1600.0</td>\n",
              "      <td>0.0</td>\n",
              "      <td>1060</td>\n",
              "    </tr>\n",
              "    <tr>\n",
              "      <th>3</th>\n",
              "      <td>240000.0</td>\n",
              "      <td>243675.0</td>\n",
              "      <td>154400</td>\n",
              "    </tr>\n",
              "    <tr>\n",
              "      <th>4</th>\n",
              "      <td>210000.0</td>\n",
              "      <td>210000.0</td>\n",
              "      <td>131700</td>\n",
              "    </tr>\n",
              "    <tr>\n",
              "      <th>...</th>\n",
              "      <td>...</td>\n",
              "      <td>...</td>\n",
              "      <td>...</td>\n",
              "    </tr>\n",
              "    <tr>\n",
              "      <th>162</th>\n",
              "      <td>800.0</td>\n",
              "      <td>800.0</td>\n",
              "      <td>0</td>\n",
              "    </tr>\n",
              "    <tr>\n",
              "      <th>163</th>\n",
              "      <td>1616.0</td>\n",
              "      <td>1616.0</td>\n",
              "      <td>0</td>\n",
              "    </tr>\n",
              "    <tr>\n",
              "      <th>164</th>\n",
              "      <td>1000.0</td>\n",
              "      <td>1000.0</td>\n",
              "      <td>0</td>\n",
              "    </tr>\n",
              "    <tr>\n",
              "      <th>165</th>\n",
              "      <td>3200.0</td>\n",
              "      <td>3200.0</td>\n",
              "      <td>0</td>\n",
              "    </tr>\n",
              "    <tr>\n",
              "      <th>166</th>\n",
              "      <td>256.0</td>\n",
              "      <td>256.0</td>\n",
              "      <td>210</td>\n",
              "    </tr>\n",
              "  </tbody>\n",
              "</table>\n",
              "<p>167 rows × 3 columns</p>\n",
              "</div>"
            ],
            "text/plain": [
              "     Potência Outorgada (kW)  Potência Fiscalizada (kW)  Garantia Fisica (kW)\n",
              "0                  1396200.0                  1396200.0                731000\n",
              "1                   330000.0                   330000.0                181900\n",
              "2                     1600.0                        0.0                  1060\n",
              "3                   240000.0                   243675.0                154400\n",
              "4                   210000.0                   210000.0                131700\n",
              "..                       ...                        ...                   ...\n",
              "162                    800.0                      800.0                     0\n",
              "163                   1616.0                     1616.0                     0\n",
              "164                   1000.0                     1000.0                     0\n",
              "165                   3200.0                     3200.0                     0\n",
              "166                    256.0                      256.0                   210\n",
              "\n",
              "[167 rows x 3 columns]"
            ]
          },
          "metadata": {
            "tags": []
          },
          "execution_count": 251
        }
      ]
    },
    {
      "cell_type": "code",
      "metadata": {
        "id": "1KMctVCAiD1V"
      },
      "source": [
        " from sklearn.model_selection import train_test_split"
      ],
      "execution_count": 245,
      "outputs": []
    },
    {
      "cell_type": "code",
      "metadata": {
        "id": "xZYyqNP1iZxj"
      },
      "source": [
        "\n",
        "x_t = Y[['Potência Fiscalizada (kW)']]\n",
        "\n"
      ],
      "execution_count": 203,
      "outputs": []
    },
    {
      "cell_type": "code",
      "metadata": {
        "id": "laXqjD_WkJQj"
      },
      "source": [
        "y_t = Y[['Garantia Fisica (kW)']]"
      ],
      "execution_count": 204,
      "outputs": []
    },
    {
      "cell_type": "code",
      "metadata": {
        "id": "d5-7yVjXkPD2",
        "outputId": "b4a37e03-dd3d-4e31-cca6-574db580493c",
        "colab": {
          "base_uri": "https://localhost:8080/",
          "height": 918
        }
      },
      "source": [
        "train_test_split(x_t, y_t, test_size=0.4, random_state=10100000)"
      ],
      "execution_count": 205,
      "outputs": [
        {
          "output_type": "execute_result",
          "data": {
            "text/plain": [
              "[     Potência Fiscalizada (kW)\n",
              " 67                        16.0\n",
              " 158                     1500.0\n",
              " 134                        7.2\n",
              " 102                      736.0\n",
              " 100                     1260.0\n",
              " ..                         ...\n",
              " 8                        940.0\n",
              " 135                     4505.0\n",
              " 71                       950.0\n",
              " 130                      180.0\n",
              " 129                      990.0\n",
              " \n",
              " [100 rows x 1 columns],      Potência Fiscalizada (kW)\n",
              " 57                      1000.0\n",
              " 66                        12.0\n",
              " 36                       910.0\n",
              " 0                       1300.5\n",
              " 154                      988.8\n",
              " ..                         ...\n",
              " 22                         7.2\n",
              " 62                       500.0\n",
              " 146                     1600.0\n",
              " 74                      4230.0\n",
              " 9                        999.0\n",
              " \n",
              " [67 rows x 1 columns],      Garantia Fisica (kW)\n",
              " 67                      0\n",
              " 158                     0\n",
              " 134                     0\n",
              " 102                     0\n",
              " 100                     0\n",
              " ..                    ...\n",
              " 8                       0\n",
              " 135                     0\n",
              " 71                      0\n",
              " 130                   110\n",
              " 129                     0\n",
              " \n",
              " [100 rows x 1 columns],      Garantia Fisica (kW)\n",
              " 57                    530\n",
              " 66                      0\n",
              " 36                      0\n",
              " 0                       0\n",
              " 154                   900\n",
              " ..                    ...\n",
              " 22                      0\n",
              " 62                      0\n",
              " 146                  1070\n",
              " 74                      0\n",
              " 9                       0\n",
              " \n",
              " [67 rows x 1 columns]]"
            ]
          },
          "metadata": {
            "tags": []
          },
          "execution_count": 205
        }
      ]
    },
    {
      "cell_type": "code",
      "metadata": {
        "id": "IudgPUankT0z"
      },
      "source": [
        "from sklearn.linear_model import LinearRegression"
      ],
      "execution_count": 206,
      "outputs": []
    },
    {
      "cell_type": "code",
      "metadata": {
        "id": "64UU-ng2kaP2"
      },
      "source": [
        "from sklearn.linear_model import LinearRegression\n",
        "lr = LinearRegression()\n"
      ],
      "execution_count": 207,
      "outputs": []
    },
    {
      "cell_type": "code",
      "metadata": {
        "id": "EG-jqHJHmMGY",
        "outputId": "fdfc1ce8-5a3c-41b8-c071-69acde579d22",
        "colab": {
          "base_uri": "https://localhost:8080/",
          "height": 34
        }
      },
      "source": [
        "lr.fit(x_t, y_t)"
      ],
      "execution_count": 208,
      "outputs": [
        {
          "output_type": "execute_result",
          "data": {
            "text/plain": [
              "LinearRegression(copy_X=True, fit_intercept=True, n_jobs=None, normalize=False)"
            ]
          },
          "metadata": {
            "tags": []
          },
          "execution_count": 208
        }
      ]
    },
    {
      "cell_type": "code",
      "metadata": {
        "id": "NwPMwaJdmOWA",
        "outputId": "662d5c76-2bf5-47b3-fae7-5fc4b111bd0d",
        "colab": {
          "base_uri": "https://localhost:8080/",
          "height": 34
        }
      },
      "source": [
        "\n",
        "print(lr.intercept_)"
      ],
      "execution_count": 209,
      "outputs": [
        {
          "output_type": "stream",
          "text": [
            "[28.44135591]\n"
          ],
          "name": "stdout"
        }
      ]
    },
    {
      "cell_type": "code",
      "metadata": {
        "id": "vxpAMQ1p9LXQ",
        "outputId": "9ae3e33f-fce9-4285-9dee-ad3d94f27665",
        "colab": {
          "base_uri": "https://localhost:8080/",
          "height": 34
        }
      },
      "source": [
        "print(lr.coef_)"
      ],
      "execution_count": 210,
      "outputs": [
        {
          "output_type": "stream",
          "text": [
            "[[0.1977895]]\n"
          ],
          "name": "stdout"
        }
      ]
    },
    {
      "cell_type": "code",
      "metadata": {
        "id": "X5l08hDr9V8K"
      },
      "source": [
        "x_teste= W[['Potência Fiscalizada (kW)']]"
      ],
      "execution_count": 252,
      "outputs": []
    },
    {
      "cell_type": "code",
      "metadata": {
        "id": "Dt_hbmCp9ttA"
      },
      "source": [
        "y_teste = W[['Garantia Fisica (kW)']]"
      ],
      "execution_count": 253,
      "outputs": []
    },
    {
      "cell_type": "code",
      "metadata": {
        "id": "_i-BF7zJ-TED"
      },
      "source": [
        "\n",
        "predict = lr.predict(y_t)\n",
        "predictions = lr.predict( x_t)"
      ],
      "execution_count": 254,
      "outputs": []
    },
    {
      "cell_type": "code",
      "metadata": {
        "id": "Qd8ZHnGJ-at8",
        "outputId": "f41d11c1-6d05-484b-aa7c-035f133d02f6",
        "colab": {
          "base_uri": "https://localhost:8080/",
          "height": 1000
        }
      },
      "source": [
        "predict\n"
      ],
      "execution_count": 255,
      "outputs": [
        {
          "output_type": "execute_result",
          "data": {
            "text/plain": [
              "array([[ 28.44135591],\n",
              "       [238.09822996],\n",
              "       [ 28.44135591],\n",
              "       [246.00981011],\n",
              "       [ 99.64557729],\n",
              "       [ 28.44135591],\n",
              "       [186.67295897],\n",
              "       [ 28.44135591],\n",
              "       [ 28.44135591],\n",
              "       [ 28.44135591],\n",
              "       [ 28.44135591],\n",
              "       [ 97.66768225],\n",
              "       [ 28.44135591],\n",
              "       [147.1150582 ],\n",
              "       [ 54.15399141],\n",
              "       [ 28.44135591],\n",
              "       [ 28.44135591],\n",
              "       [ 28.44135591],\n",
              "       [ 79.86662691],\n",
              "       [ 28.44135591],\n",
              "       [548.62775095],\n",
              "       [ 28.44135591],\n",
              "       [ 28.44135591],\n",
              "       [ 28.44135591],\n",
              "       [ 28.44135591],\n",
              "       [ 28.44135591],\n",
              "       [ 42.28662118],\n",
              "       [ 28.44135591],\n",
              "       [ 28.44135591],\n",
              "       [269.74455057],\n",
              "       [155.02663836],\n",
              "       [ 28.44135591],\n",
              "       [ 28.44135591],\n",
              "       [ 28.44135591],\n",
              "       [ 28.44135591],\n",
              "       [228.20875477],\n",
              "       [ 28.44135591],\n",
              "       [ 28.44135591],\n",
              "       [107.55715744],\n",
              "       [ 28.44135591],\n",
              "       [420.06457347],\n",
              "       [ 28.44135591],\n",
              "       [ 28.44135591],\n",
              "       [ 28.44135591],\n",
              "       [ 28.44135591],\n",
              "       [297.43508111],\n",
              "       [ 28.44135591],\n",
              "       [ 28.44135591],\n",
              "       [ 81.84452194],\n",
              "       [ 28.44135591],\n",
              "       [ 28.44135591],\n",
              "       [ 28.44135591],\n",
              "       [ 28.44135591],\n",
              "       [ 28.44135591],\n",
              "       [ 28.44135591],\n",
              "       [133.26979294],\n",
              "       [ 28.44135591],\n",
              "       [133.26979294],\n",
              "       [ 28.44135591],\n",
              "       [ 28.44135591],\n",
              "       [ 28.44135591],\n",
              "       [ 28.44135591],\n",
              "       [ 28.44135591],\n",
              "       [ 28.44135591],\n",
              "       [ 91.73399713],\n",
              "       [ 28.44135591],\n",
              "       [ 28.44135591],\n",
              "       [ 28.44135591],\n",
              "       [ 28.44135591],\n",
              "       [ 28.44135591],\n",
              "       [ 28.44135591],\n",
              "       [ 28.44135591],\n",
              "       [ 71.95504675],\n",
              "       [ 28.44135591],\n",
              "       [ 28.44135591],\n",
              "       [ 28.44135591],\n",
              "       [117.44663263],\n",
              "       [ 28.44135591],\n",
              "       [ 28.44135591],\n",
              "       [184.69506393],\n",
              "       [ 28.44135591],\n",
              "       [619.83197233],\n",
              "       [ 28.44135591],\n",
              "       [141.18137309],\n",
              "       [ 28.44135591],\n",
              "       [162.93821851],\n",
              "       [ 28.44135591],\n",
              "       [ 28.44135591],\n",
              "       [ 28.44135591],\n",
              "       [ 28.44135591],\n",
              "       [ 28.44135591],\n",
              "       [ 28.44135591],\n",
              "       [ 69.97715171],\n",
              "       [218.31927958],\n",
              "       [ 28.44135591],\n",
              "       [ 28.44135591],\n",
              "       [ 28.44135591],\n",
              "       [105.5792624 ],\n",
              "       [ 34.37504103],\n",
              "       [ 50.19820133],\n",
              "       [ 28.44135591],\n",
              "       [ 28.44135591],\n",
              "       [ 28.44135591],\n",
              "       [ 28.44135591],\n",
              "       [ 28.44135591],\n",
              "       [ 28.44135591],\n",
              "       [412.15299332],\n",
              "       [ 28.44135591],\n",
              "       [ 28.44135591],\n",
              "       [ 28.44135591],\n",
              "       [ 28.44135591],\n",
              "       [750.37304485],\n",
              "       [ 28.44135591],\n",
              "       [ 28.44135591],\n",
              "       [ 28.44135591],\n",
              "       [ 28.44135591],\n",
              "       [ 28.44135591],\n",
              "       [ 75.91083683],\n",
              "       [ 28.44135591],\n",
              "       [137.22558301],\n",
              "       [ 28.44135591],\n",
              "       [ 28.44135591],\n",
              "       [ 28.44135591],\n",
              "       [172.8276937 ],\n",
              "       [ 28.44135591],\n",
              "       [ 28.44135591],\n",
              "       [ 28.44135591],\n",
              "       [ 28.44135591],\n",
              "       [ 28.44135591],\n",
              "       [ 28.44135591],\n",
              "       [ 50.19820133],\n",
              "       [ 28.44135591],\n",
              "       [ 28.44135591],\n",
              "       [ 50.19820133],\n",
              "       [ 28.44135591],\n",
              "       [ 28.44135591],\n",
              "       [ 28.44135591],\n",
              "       [157.00453339],\n",
              "       [ 58.10978149],\n",
              "       [ 28.44135591],\n",
              "       [ 28.44135591],\n",
              "       [143.15926813],\n",
              "       [ 28.44135591],\n",
              "       [ 28.44135591],\n",
              "       [ 28.44135591],\n",
              "       [160.96032347],\n",
              "       [240.076125  ],\n",
              "       [ 28.44135591],\n",
              "       [ 28.44135591],\n",
              "       [ 28.44135591],\n",
              "       [ 28.44135591],\n",
              "       [ 28.44135591],\n",
              "       [ 28.44135591],\n",
              "       [388.41825286],\n",
              "       [206.45190935],\n",
              "       [ 28.44135591],\n",
              "       [338.97087691],\n",
              "       [133.26979294],\n",
              "       [ 28.44135591],\n",
              "       [ 28.44135591],\n",
              "       [ 28.44135591],\n",
              "       [ 28.44135591],\n",
              "       [ 28.44135591],\n",
              "       [ 28.44135591],\n",
              "       [ 28.44135591],\n",
              "       [ 28.44135591],\n",
              "       [ 28.44135591]])"
            ]
          },
          "metadata": {
            "tags": []
          },
          "execution_count": 255
        }
      ]
    },
    {
      "cell_type": "code",
      "metadata": {
        "id": "dEDydJ0K-dJK",
        "outputId": "b6f8ff10-f34b-4df1-8bd9-f5e2fac25523",
        "colab": {
          "base_uri": "https://localhost:8080/",
          "height": 34
        }
      },
      "source": [
        "\n",
        "lr.fit(x_teste, y_teste)"
      ],
      "execution_count": 257,
      "outputs": [
        {
          "output_type": "execute_result",
          "data": {
            "text/plain": [
              "LinearRegression(copy_X=True, fit_intercept=True, n_jobs=None, normalize=False)"
            ]
          },
          "metadata": {
            "tags": []
          },
          "execution_count": 257
        }
      ]
    },
    {
      "cell_type": "code",
      "metadata": {
        "id": "4PSRhCzqvMxO",
        "outputId": "0ccfbb62-528e-4941-aa17-841c408f3fa1",
        "colab": {
          "base_uri": "https://localhost:8080/",
          "height": 360
        }
      },
      "source": [
        "sns.distplot((y_teste-predict))"
      ],
      "execution_count": 261,
      "outputs": [
        {
          "output_type": "stream",
          "text": [
            "/usr/local/lib/python3.6/dist-packages/seaborn/distributions.py:2551: FutureWarning: `distplot` is a deprecated function and will be removed in a future version. Please adapt your code to use either `displot` (a figure-level function with similar flexibility) or `histplot` (an axes-level function for histograms).\n",
            "  warnings.warn(msg, FutureWarning)\n"
          ],
          "name": "stderr"
        },
        {
          "output_type": "execute_result",
          "data": {
            "text/plain": [
              "<matplotlib.axes._subplots.AxesSubplot at 0x7f94017e0fd0>"
            ]
          },
          "metadata": {
            "tags": []
          },
          "execution_count": 261
        },
        {
          "output_type": "display_data",
          "data": {
            "image/png": "[encoded data removed]",
            "text/plain": [
              "<Figure size 432x288 with 1 Axes>"
            ]
          },
          "metadata": {
            "tags": [],
            "needs_background": "light"
          }
        }
      ]
    },
    {
      "cell_type": "code",
      "metadata": {
        "id": "mSN23-zm-hlx",
        "outputId": "80868b77-3be2-4961-9566-84f1a12d7d86",
        "colab": {
          "base_uri": "https://localhost:8080/",
          "height": 34
        }
      },
      "source": [
        "from sklearn import metrics\n",
        "print('MSE', metrics.mean_squared_error(y_teste, predict) )\n",
        "\n"
      ],
      "execution_count": 259,
      "outputs": [
        {
          "output_type": "stream",
          "text": [
            "MSE 17846016809.892105\n"
          ],
          "name": "stdout"
        }
      ]
    },
    {
      "cell_type": "code",
      "metadata": {
        "id": "4zclTBGxfndc"
      },
      "source": [
        ""
      ],
      "execution_count": null,
      "outputs": []
    }
  ]
}